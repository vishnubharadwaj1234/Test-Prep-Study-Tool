{
  "cells": [
    {
      "cell_type": "markdown",
      "metadata": {
        "id": "view-in-github",
        "colab_type": "text"
      },
      "source": [
        "<a href=\"https://colab.research.google.com/github/vishnubharadwaj1234/Test-Prep-Study-Tool/blob/main/TestPrep.ipynb\" target=\"_parent\"><img src=\"https://colab.research.google.com/assets/colab-badge.svg\" alt=\"Open In Colab\"/></a>"
      ]
    },
    {
      "cell_type": "code",
      "execution_count": null,
      "metadata": {
        "id": "VNXNH5imR8vp"
      },
      "outputs": [],
      "source": [
        "!pip install gradio\n",
        "!pip install openai==0.28"
      ]
    },
    {
      "cell_type": "code",
      "execution_count": null,
      "metadata": {
        "id": "mE3jXEBeTnGC"
      },
      "outputs": [],
      "source": [
        "import openai\n",
        "import gradio as gr\n",
        "import gradio.components as components\n",
        "import os"
      ]
    },
    {
      "cell_type": "code",
      "execution_count": null,
      "metadata": {
        "id": "cxzwoucj3llr"
      },
      "outputs": [],
      "source": [
        "openai.api_key = \"ENTER OPENAI API KEY HERE\"\n",
        "\n",
        "messages = [\n",
        "    {\"role\": \"system\", \"content\": \"You are a friendly and helpful AI assistant.\"},\n",
        "]"
      ]
    },
    {
      "cell_type": "code",
      "execution_count": null,
      "metadata": {
        "id": "Rn7eodFqbGu1"
      },
      "outputs": [],
      "source": [
        "previous_response = \"\"\n",
        "\n",
        "def print_questions(subject, format):\n",
        "    if subject:\n",
        "        question = \"Create 10 \" + format + \" questions for a test on \" + subject + \". Do not write anything except for the questions.\"\n",
        "        messages.append({\"role\": \"user\", \"content\": question})\n",
        "        chat = openai.ChatCompletion.create(\n",
        "            model=\"gpt-3.5-turbo\", messages=messages\n",
        "        )\n",
        "        questions_reply = chat.choices[0].message.content\n",
        "        messages.append({\"role\": \"assistant\", \"content\": questions_reply})\n",
        "        previous_response = questions_reply\n",
        "        return questions_reply"
      ]
    },
    {
      "cell_type": "code",
      "execution_count": null,
      "metadata": {
        "id": "nMNYp-nyz7JF"
      },
      "outputs": [],
      "source": [
        "def print_answers():\n",
        "    prompt = \"Give me the answers to the following questions: \" + previous_response + \"\\n\\nDo not write anything except for the answers.\"\n",
        "    messages.append({\"role\": \"user\", \"content\": prompt})\n",
        "    chat = openai.ChatCompletion.create(\n",
        "        model=\"gpt-3.5-turbo\", messages=messages\n",
        "    )\n",
        "    answers_reply = chat.choices[0].message.content\n",
        "    messages.append({\"role\": \"assistant\", \"content\": answers_reply})\n",
        "    return answers_reply"
      ]
    },
    {
      "cell_type": "code",
      "execution_count": null,
      "metadata": {
        "id": "Wn4rpOLwmDhE"
      },
      "outputs": [],
      "source": [
        "def set_btn_interactive(btn):\n",
        "  return gr.Button(interactive=True)\n",
        "\n",
        "def set_textbox_interactive(txt):\n",
        "  return gr.Textbox(visible=True)"
      ]
    },
    {
      "cell_type": "code",
      "execution_count": null,
      "metadata": {
        "id": "cdDE7S7Kz4xn"
      },
      "outputs": [],
      "source": [
        "components_to_clear = []\n",
        "questions_tb = \"\"\n",
        "\n",
        "with gr.Blocks() as interface:\n",
        "  with gr.Row():\n",
        "    with gr.Column():\n",
        "      subject = gr.Textbox(placeholder=\"Subject of test\")\n",
        "      format = gr.Dropdown(\n",
        "          choices=[\"Multiple choice\", \"True/False\", \"Fill in the blank\", \"Short answer\", \"Free response\"],\n",
        "          allow_custom_value=True,\n",
        "          label=\"Format of test\",\n",
        "          show_label=True)\n",
        "      inputs = [subject, format]\n",
        "      questions_btn = gr.Button(value=\"Create Questions\", interactive=False)\n",
        "      subject.input(fn=set_btn_interactive, inputs=questions_btn, outputs=questions_btn)\n",
        "      questions_tb = gr.Textbox(lines=20, label=\"Your AI Generated Questions:\")\n",
        "      components_to_clear = [subject, format, questions_tb]\n",
        "      questions_btn.click(fn=print_questions,\n",
        "                inputs=inputs,\n",
        "                outputs=questions_tb)\n",
        "\n",
        "\n",
        "    with gr.Column():\n",
        "      answer_area = gr.Textbox(label=\"Enter your answers here:\", lines=12, visible=False)\n",
        "      components_to_clear.append(answer_area)\n",
        "      questions_tb.change(fn=set_textbox_interactive, inputs=answer_area, outputs=answer_area)\n",
        "\n",
        "      answer_btn = gr.Button(\"Get Answers\", interactive=False)\n",
        "      answer_area.input(fn=set_btn_interactive, inputs=answer_btn, outputs=answer_btn)\n",
        "\n",
        "      answers_tb = gr.Textbox(label=\"Answers to the questions:\", lines=12)\n",
        "      components_to_clear.append(answers_tb)\n",
        "      answer_btn.click(fn=print_answers, inputs=[], outputs=answers_tb)\n",
        "\n",
        "      clear_btn = gr.ClearButton()\n",
        "      clear_btn.add(components_to_clear)"
      ]
    },
    {
      "cell_type": "code",
      "execution_count": null,
      "metadata": {
        "id": "xoZhYuLS7E1s"
      },
      "outputs": [],
      "source": [
        "interface.launch(share=True)"
      ]
    }
  ],
  "metadata": {
    "accelerator": "GPU",
    "colab": {
      "gpuType": "T4",
      "provenance": [],
      "include_colab_link": true
    },
    "kernelspec": {
      "display_name": "Python 3",
      "name": "python3"
    },
    "language_info": {
      "name": "python"
    }
  },
  "nbformat": 4,
  "nbformat_minor": 0
}