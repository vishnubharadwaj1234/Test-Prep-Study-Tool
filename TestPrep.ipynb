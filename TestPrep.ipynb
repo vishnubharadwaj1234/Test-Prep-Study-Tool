{
  "nbformat": 4,
  "nbformat_minor": 0,
  "metadata": {
    "colab": {
      "provenance": [],
      "gpuType": "T4",
      "include_colab_link": true
    },
    "kernelspec": {
      "name": "python3",
      "display_name": "Python 3"
    },
    "language_info": {
      "name": "python"
    },
    "accelerator": "GPU"
  },
  "cells": [
    {
      "cell_type": "markdown",
      "metadata": {
        "id": "view-in-github",
        "colab_type": "text"
      },
      "source": [
        "<a href=\"https://colab.research.google.com/github/vishnubharadwaj1234/Test-Prep-Study-Tool/blob/main/TestPrep.ipynb\" target=\"_parent\"><img src=\"https://colab.research.google.com/assets/colab-badge.svg\" alt=\"Open In Colab\"/></a>"
      ]
    },
    {
      "cell_type": "code",
      "execution_count": null,
      "metadata": {
        "id": "VNXNH5imR8vp"
      },
      "outputs": [],
      "source": [
        "!pip install gradio\n",
        "!pip install openai==0.28"
      ]
    },
    {
      "cell_type": "code",
      "source": [
        "import openai\n",
        "import gradio as gr\n",
        "import gradio.components as components\n",
        "import os"
      ],
      "metadata": {
        "id": "mE3jXEBeTnGC"
      },
      "execution_count": null,
      "outputs": []
    },
    {
      "cell_type": "code",
      "source": [
        "openai.api_key = \"ENTER YOUR OPENAI API KEY HERE\"\n",
        "\n",
        "messages = [\n",
        "    {\"role\": \"system\", \"content\": \"You are a friendly and helpful AI assistant.\"},\n",
        "]"
      ],
      "metadata": {
        "id": "cxzwoucj3llr"
      },
      "execution_count": null,
      "outputs": []
    },
    {
      "cell_type": "code",
      "source": [
        "previous_response = \"\"\n",
        "\n",
        "def print_questions(subject, format):\n",
        "    if subject:\n",
        "        question = \"Create 10 \" + format + \" questions for a test on \" + subject + \". Do not write anything except for the questions.\"\n",
        "        messages.append({\"role\": \"user\", \"content\": question})\n",
        "        chat = openai.ChatCompletion.create(\n",
        "            model=\"gpt-3.5-turbo\", messages=messages\n",
        "        )\n",
        "        questions_reply = chat.choices[0].message.content\n",
        "        messages.append({\"role\": \"assistant\", \"content\": questions_reply})\n",
        "        previous_response = questions_reply\n",
        "        return questions_reply"
      ],
      "metadata": {
        "id": "cdDE7S7Kz4xn"
      },
      "execution_count": null,
      "outputs": []
    },
    {
      "cell_type": "code",
      "source": [
        "# Gradio Interface\n",
        "interface = gr.Interface(\n",
        "              fn=print_questions,\n",
        "              inputs=[\"text\", gr.Dropdown(\n",
        "                 choices=[\"Multiple choice\", \"True/False\", \"Fill in the blank\", \"Short answer\", \"Free response\"],\n",
        "                 allow_custom_value=True,\n",
        "                 value = \"Multiple choice\",\n",
        "                 label=\"Format of quiz\", show_label=True\n",
        "                 )],\n",
        "              outputs=gr.Textbox(lines=30, label=\"Your AI generated questions\"),\n",
        "              title=\"Test Question Generator\")"
      ],
      "metadata": {
        "id": "iUCSogWZ0B1A"
      },
      "execution_count": null,
      "outputs": []
    },
    {
      "cell_type": "code",
      "source": [
        "interface.launch(share=True, debug=True)"
      ],
      "metadata": {
        "id": "2lL3IQHwg_74"
      },
      "execution_count": null,
      "outputs": []
    },
    {
      "cell_type": "code",
      "source": [
        "def print_answers():\n",
        "    prompt = \"Give me the answers to the following questions: \" + previous_response + \"\\n\\nDo not write anything except for the answers.\"\n",
        "    messages.append({\"role\": \"user\", \"content\": prompt})\n",
        "    chat = openai.ChatCompletion.create(\n",
        "        model=\"gpt-3.5-turbo\", messages=messages\n",
        "    )\n",
        "    answers_reply = chat.choices[0].message.content\n",
        "    messages.append({\"role\": \"assistant\", \"content\": answers_reply})\n",
        "    return answers_reply\n",
        "\n",
        "with gr.Blocks() as interface:\n",
        "    button = gr.Button(\"Answers\")\n",
        "    button.click(fn=print_answers, inputs=[], outputs=gr.Textbox(label=\"Answers to the questions\", lines=12))\n",
        "\n",
        "interface.launch()"
      ],
      "metadata": {
        "id": "nMNYp-nyz7JF"
      },
      "execution_count": null,
      "outputs": []
    }
  ]
}