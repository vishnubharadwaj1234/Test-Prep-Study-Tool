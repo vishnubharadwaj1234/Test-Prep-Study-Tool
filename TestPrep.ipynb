{
  "nbformat": 4,
  "nbformat_minor": 0,
  "metadata": {
    "colab": {
      "provenance": [],
      "gpuType": "T4",
      "authorship_tag": "ABX9TyNGBUpHmWcMqAMT/HbfEcVW",
      "include_colab_link": true
    },
    "kernelspec": {
      "name": "python3",
      "display_name": "Python 3"
    },
    "language_info": {
      "name": "python"
    },
    "accelerator": "GPU"
  },
  "cells": [
    {
      "cell_type": "markdown",
      "metadata": {
        "id": "view-in-github",
        "colab_type": "text"
      },
      "source": [
        "<a href=\"https://colab.research.google.com/github/vishnubharadwaj1234/Test-Prep-Study-Tool/blob/main/TestPrep.ipynb\" target=\"_parent\"><img src=\"https://colab.research.google.com/assets/colab-badge.svg\" alt=\"Open In Colab\"/></a>"
      ]
    },
    {
      "cell_type": "code",
      "execution_count": null,
      "metadata": {
        "id": "VNXNH5imR8vp"
      },
      "outputs": [],
      "source": [
        "!pip install gradio\n",
        "!pip install openai==0.28"
      ]
    },
    {
      "cell_type": "code",
      "source": [
        "import openai\n",
        "import gradio as gr\n",
        "import gradio.components as components\n",
        "import os"
      ],
      "metadata": {
        "id": "mE3jXEBeTnGC"
      },
      "execution_count": null,
      "outputs": []
    },
    {
      "cell_type": "code",
      "source": [
        "openai.api_key = \"ENTER YOUR OPENAI API KEY HERE\"\n",
        "\n",
        "messages = [\n",
        "    {\"role\": \"system\", \"content\": \"You are a friendly and helpful AI assistant.\"},\n",
        "]\n",
        "\n",
        "def print_questions(subject, format):\n",
        "    if subject:\n",
        "        question = \"Create 10 \" + format + \" questions for a test on \" + subject + \". Do not write anything except for the questions.\"\n",
        "        messages.append({\"role\": \"user\", \"content\": question})\n",
        "        chat = openai.ChatCompletion.create(\n",
        "            model=\"gpt-3.5-turbo\", messages=messages\n",
        "        )\n",
        "        reply = chat.choices[0].message.content\n",
        "        messages.append({\"role\": \"assistant\", \"content\": reply})\n",
        "        return reply\n",
        "\n",
        "def print_answers():\n",
        "    return \"Hello world!\"\n",
        "\n",
        "# Gradio Interface\n",
        "interface = gr.Interface(\n",
        "              fn=print_questions,\n",
        "              inputs=[\"text\", gr.Dropdown(\n",
        "                 choices=[\"Multiple choice\", \"True/False\", \"Fill in the blank\", \"Short answer\", \"Free response\"],\n",
        "                 allow_custom_value=True,\n",
        "                 value = \"Multiple choice\",\n",
        "                 label=\"Format of quiz\", show_label=True\n",
        "                 )],\n",
        "              outputs=gr.Textbox(lines=30),\n",
        "              title=\"Test Question Generator\")"
      ],
      "metadata": {
        "id": "cxzwoucj3llr"
      },
      "execution_count": null,
      "outputs": []
    },
    {
      "cell_type": "code",
      "source": [
        "interface.launch(share=True, debug=True)"
      ],
      "metadata": {
        "id": "2lL3IQHwg_74"
      },
      "execution_count": null,
      "outputs": []
    }
  ]
}